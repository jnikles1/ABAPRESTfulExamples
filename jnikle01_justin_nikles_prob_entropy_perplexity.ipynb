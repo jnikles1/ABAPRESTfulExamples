{
  "nbformat": 4,
  "nbformat_minor": 0,
  "metadata": {
    "colab": {
      "provenance": [],
      "authorship_tag": "ABX9TyO3g8Y3fSiZup+7tW8jMsPf",
      "include_colab_link": true
    },
    "kernelspec": {
      "name": "python3",
      "display_name": "Python 3"
    },
    "language_info": {
      "name": "python"
    }
  },
  "cells": [
    {
      "cell_type": "markdown",
      "metadata": {
        "id": "view-in-github",
        "colab_type": "text"
      },
      "source": [
        "<a href=\"https://colab.research.google.com/github/jnikles1/ABAPRESTfulExamples/blob/master/jnikle01_justin_nikles_prob_entropy_perplexity.ipynb\" target=\"_parent\"><img src=\"https://colab.research.google.com/assets/colab-badge.svg\" alt=\"Open In Colab\"/></a>"
      ]
    },
    {
      "cell_type": "code",
      "execution_count": null,
      "metadata": {
        "colab": {
          "base_uri": "https://localhost:8080/"
        },
        "id": "9LDYhMGT25_3",
        "outputId": "b85527d3-d5ae-40d3-e49a-c0d558f7dec8"
      },
      "outputs": [
        {
          "output_type": "stream",
          "name": "stdout",
          "text": [
            "Total tosses: 100\n",
            "Heads: 52 - probability: 0.52\n",
            "Tails: 48 - probability: 0.48\n",
            "\n",
            "\n",
            "Total tosses: 1000\n",
            "Heads: 527 - probability: 0.527\n",
            "Tails: 473 - probability: 0.473\n",
            "\n",
            "\n",
            "Total tosses: 10000\n",
            "Heads: 5019 - probability: 0.5019\n",
            "Tails: 4981 - probability: 0.4981\n",
            "\n",
            "\n",
            "Total tosses: 100\n",
            "Side 1: 17 - probability: 0.17\n",
            "Side 2: 20 - probability: 0.2\n",
            "Side 3: 16 - probability: 0.16\n",
            "Side 4: 12 - probability: 0.12\n",
            "Side 5: 17 - probability: 0.17\n",
            "Side 6: 18 - probability: 0.18\n",
            "\n",
            "\n",
            "Total tosses: 1000\n",
            "Side 1: 191 - probability: 0.191\n",
            "Side 2: 154 - probability: 0.154\n",
            "Side 3: 177 - probability: 0.177\n",
            "Side 4: 160 - probability: 0.16\n",
            "Side 5: 169 - probability: 0.169\n",
            "Side 6: 149 - probability: 0.149\n",
            "\n",
            "\n",
            "Total tosses: 10000\n",
            "Side 1: 1670 - probability: 0.167\n",
            "Side 2: 1611 - probability: 0.1611\n",
            "Side 3: 1706 - probability: 0.1706\n",
            "Side 4: 1656 - probability: 0.1656\n",
            "Side 5: 1672 - probability: 0.1672\n",
            "Side 6: 1685 - probability: 0.1685\n",
            "\n",
            "\n"
          ]
        }
      ],
      "source": [
        "import random\n",
        "\n",
        "\n",
        "# this is a generator that could be used to simulate\n",
        "# n tossups, with a generalized choice of selectors\n",
        "# taken in as a list\n",
        "def toss_ups(n, selections):\n",
        "  for _ in range(n):\n",
        "    yield random.choice(selections)\n",
        "\n",
        "def coin_toss(n):\n",
        "  return toss_ups(n, ['Heads', 'Tails'])\n",
        "\n",
        "def die_roll(n, die_size):\n",
        "  return toss_ups(n, list(range(1, die_size + 1)))\n",
        "\n",
        "def coin_toss_probability(n):\n",
        "  head_count = 0\n",
        "  tail_count = 0\n",
        "  for toss in coin_toss(n):\n",
        "      if toss == \"Heads\":\n",
        "        head_count = head_count + 1\n",
        "      elif toss == \"Tails\":\n",
        "        tail_count = tail_count + 1\n",
        "      else:\n",
        "        raise ValueError()\n",
        "  p_heads = head_count / n\n",
        "  p_tails = tail_count / n\n",
        "  print(f\"Total tosses: {n}\")\n",
        "  print(f\"Heads: {head_count} - probability: {p_heads}\")\n",
        "  print(f\"Tails: {tail_count} - probability: {p_tails}\\n\\n\")\n",
        "\n",
        "def die_roll_probability(n, die_size):\n",
        "  die_sides = list(range(1, die_size + 1))\n",
        "  die_count = {key: 0 for key in die_sides}\n",
        "\n",
        "  for toss in die_roll(n, die_size):\n",
        "      die_count[toss] = die_count[toss] + 1\n",
        "  print(f\"Total tosses: {n}\")\n",
        "  for key, value in die_count.items():\n",
        "    print(f\"Side {key}: {value} - probability: {value/n}\")\n",
        "  print(\"\\n\")\n",
        "\n",
        "coin_toss_probability(100)\n",
        "coin_toss_probability(1000)\n",
        "coin_toss_probability(10000)\n",
        "\n",
        "die_roll_probability(100, 6)\n",
        "die_roll_probability(1000, 6)\n",
        "die_roll_probability(10000, 6)"
      ]
    }
  ]
}